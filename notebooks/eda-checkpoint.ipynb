{
 "cells": [
  {
   "cell_type": "code",
   "execution_count": null,
   "id": "1c0180ac",
   "metadata": {},
   "outputs": [],
   "source": [
    "import pandas as pd\n",
    "import matplotlib.pyplot as plt\n",
    "import seaborn as sns\n",
    "\n",
    "df = pd.read_excel(\"../data/restaurant_orders.xlsx\")\n",
    "print(df.head())\n",
    "\n",
    "plt.figure(figsize=(10,6))\n",
    "df.groupby(\"Restaurant Name\")[\"Order Total\"].sum().sort_values(ascending=False).head(10).plot(kind='bar')\n",
    "plt.title(\"Top 10 Restaurants by Sales\")\n",
    "plt.ylabel(\"Total Order Value\")\n",
    "plt.xticks(rotation=45)\n",
    "plt.tight_layout()\n",
    "plt.show()\n",
    "\n",
    "df[\"Order Date\"] = pd.to_datetime(df[\"Order Date\"])\n",
    "df[\"Month\"] = df[\"Order Date\"].dt.to_period(\"M\")\n",
    "monthly = df.groupby(\"Month\")[\"Order Total\"].sum()\n",
    "monthly.plot(kind=\"line\", title=\"Monthly Sales Trend\")\n",
    "plt.ylabel(\"Sales\")\n",
    "plt.show()\n"
   ]
  }
 ],
 "metadata": {
  "kernelspec": {
   "display_name": "Python 3 (ipykernel)",
   "language": "python",
   "name": "python3"
  },
  "language_info": {
   "codemirror_mode": {
    "name": "ipython",
    "version": 3
   },
   "file_extension": ".py",
   "mimetype": "text/x-python",
   "name": "python",
   "nbconvert_exporter": "python",
   "pygments_lexer": "ipython3",
   "version": "3.11.5"
  }
 },
 "nbformat": 4,
 "nbformat_minor": 5
}
